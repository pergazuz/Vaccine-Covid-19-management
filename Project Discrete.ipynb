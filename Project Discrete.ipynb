{
 "cells": [
  {
   "cell_type": "code",
   "execution_count": null,
   "id": "2af319c5",
   "metadata": {},
   "outputs": [],
   "source": [
    "# imports\n",
    "import networkx as nx\n",
    "from networkx.algorithms import bipartite\n",
    "\n",
    "# Initialise graph\n",
    "B = nx.Graph()\n",
    "\n",
    "# Add nodes with the node attribute \"bipartite\"\n",
    "top_nodes = [1, 2, 3]\n",
    "bottom_nodes = [\"A\", \"B\", \"C\"]\n",
    "B.add_nodes_from(top_nodes, bipartite=0)\n",
    "B.add_nodes_from(bottom_nodes, bipartite=1)\n",
    "\n",
    "# Add edges only between nodes of opposite node sets\n",
    "B.add_edges_from([(1, \"A\"), (1, \"B\"), (2, \"B\"), (2, \"C\"), (3, \"A\"), (3, \"C\")])"
   ]
  },
  {
   "cell_type": "code",
   "execution_count": null,
   "id": "8048aa55",
   "metadata": {},
   "outputs": [],
   "source": [
    "# Initialise graph\n",
    "B = nx.Graph()\n",
    "\n",
    "# Add nodes with the node attribute \"bipartite\"\n",
    "top_nodes = []\n",
    "bottom_nodes = []\n",
    "B.add_nodes_from(top_nodes, bipartite=0)\n",
    "B.add_nodes_from(bottom_nodes, bipartite=1)\n",
    "\n",
    "# Add edges only between nodes of opposite node sets\n",
    "B.add_edges_from()\n",
    "\n",
    "#Obtain the maximum cardinality matching\n",
    "my_matching = bipartite.matching.hopcroft_karp_matching(B, top_nodes)\n",
    "print(my_matching)\n",
    "\n",
    "\n",
    "a = input(\"Please input a number to be a top nodes(Enter to stop input top_nodes)\")\n",
    "while a != \"\" :\n",
    "    top_nodes.append(int(a))\n",
    "    a = input(\"Please input a number to be a top nodes(Enter to stop input top_nodes)\")\n",
    "    \n",
    "b = input(\"Please input a character between A-Z to be a bottom nodes(Enter to stop input bottom_nodes)\")\n",
    "while b != \"\" :\n",
    "    bottom_nodes.append(b)\n",
    "    b = input(\"Please input a character between A-Z to be a bottom nodes(Enter to stop input bottom_nodes)\")"
   ]
  },
  {
   "cell_type": "code",
   "execution_count": 2,
   "id": "08cf1682",
   "metadata": {
    "scrolled": true
   },
   "outputs": [
    {
     "name": "stdout",
     "output_type": "stream",
     "text": [
      "Input the number of pairs for relation : 3\n",
      "Enter top nodes : 2\n",
      "Enter bottom nodes : A\n",
      "Enter top nodes : 3\n",
      "Enter bottom nodes : B\n",
      "Enter top nodes : 4\n",
      "Enter bottom nodes : C\n",
      "[[2, 'A'], [3, 'B'], [4, 'C']]\n"
     ]
    }
   ],
   "source": [
    "list_nodes = []\n",
    "x = int(input(\"Input the number of pairs for relation : \"))\n",
    "for i in range(x) :\n",
    "    list_relation = []\n",
    "    t_node = int(input(\"Enter top nodes : \"))\n",
    "    b_node = input(\"Enter bottom nodes : \")\n",
    "    list_relation.append(t_node)\n",
    "    list_relation.append(b_node)\n",
    "    list_nodes.append(list_relation)\n",
    "print(list_nodes)"
   ]
  }
 ],
 "metadata": {
  "kernelspec": {
   "display_name": "Python 3",
   "language": "python",
   "name": "python3"
  },
  "language_info": {
   "codemirror_mode": {
    "name": "ipython",
    "version": 3
   },
   "file_extension": ".py",
   "mimetype": "text/x-python",
   "name": "python",
   "nbconvert_exporter": "python",
   "pygments_lexer": "ipython3",
   "version": "3.8.8"
  }
 },
 "nbformat": 4,
 "nbformat_minor": 5
}
